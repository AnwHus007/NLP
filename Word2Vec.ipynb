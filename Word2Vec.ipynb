{
  "nbformat": 4,
  "nbformat_minor": 0,
  "metadata": {
    "colab": {
      "provenance": [],
      "authorship_tag": "ABX9TyMZtNDyq5EJtuUTVcNdfhID",
      "include_colab_link": true
    },
    "kernelspec": {
      "name": "python3",
      "display_name": "Python 3"
    },
    "language_info": {
      "name": "python"
    }
  },
  "cells": [
    {
      "cell_type": "markdown",
      "metadata": {
        "id": "view-in-github",
        "colab_type": "text"
      },
      "source": [
        "<a href=\"https://colab.research.google.com/github/AnwHus007/NLP/blob/main/Word2Vec.ipynb\" target=\"_parent\"><img src=\"https://colab.research.google.com/assets/colab-badge.svg\" alt=\"Open In Colab\"/></a>"
      ]
    },
    {
      "cell_type": "code",
      "execution_count": null,
      "metadata": {
        "colab": {
          "base_uri": "https://localhost:8080/"
        },
        "id": "fgBGbq_cJ8Hm",
        "outputId": "9846152e-9fae-414a-b8ac-fe3339e57c2d"
      },
      "outputs": [
        {
          "output_type": "stream",
          "name": "stdout",
          "text": [
            "Requirement already satisfied: gensim in /usr/local/lib/python3.10/dist-packages (4.3.3)\n",
            "Requirement already satisfied: numpy<2.0,>=1.18.5 in /usr/local/lib/python3.10/dist-packages (from gensim) (1.26.4)\n",
            "Requirement already satisfied: scipy<1.14.0,>=1.7.0 in /usr/local/lib/python3.10/dist-packages (from gensim) (1.13.1)\n",
            "Requirement already satisfied: smart-open>=1.8.1 in /usr/local/lib/python3.10/dist-packages (from gensim) (7.0.4)\n",
            "Requirement already satisfied: wrapt in /usr/local/lib/python3.10/dist-packages (from smart-open>=1.8.1->gensim) (1.16.0)\n"
          ]
        }
      ],
      "source": [
        "!pip install gensim\n",
        "!pip install python-Levenshtein"
      ]
    },
    {
      "cell_type": "code",
      "source": [
        "from gensim.models import Word2Vec\n",
        "sentences = [[\"cat\", \"dog\", \"pet\"], [\"car\", \"bike\", \"vehicle\"]]\n",
        "model = Word2Vec(sentences, min_count=1)\n",
        "print(model.wv.similarity('cat', 'dog'))\n",
        "print(model.wv.similarity('car', 'bike'))"
      ],
      "metadata": {
        "id": "fiviBIGdvYb7"
      },
      "execution_count": null,
      "outputs": []
    },
    {
      "cell_type": "code",
      "source": [
        "import numpy as np\n",
        "\n",
        "vocab = list(model.wv.key_to_index)\n",
        "similarity_matrix = np.zeros((len(vocab), len(vocab)))\n",
        "\n",
        "for i, word1 in enumerate(vocab):\n",
        "  for j, word2 in enumerate(vocab):\n",
        "    similarity_matrix[i, j] = model.wv.similarity(word1, word2)\n",
        "\n",
        "print(similarity_matrix)\n"
      ],
      "metadata": {
        "id": "NiJCuf9Hutq4"
      },
      "execution_count": null,
      "outputs": []
    },
    {
      "cell_type": "code",
      "source": [
        "import matplotlib.pyplot as plt\n",
        "import seaborn as sns\n",
        "\n",
        "plt.figure(figsize=(10, 8))\n",
        "sns.heatmap(similarity_matrix, annot=True, xticklabels=vocab, yticklabels=vocab)\n",
        "plt.title('Word Similarity Matrix')\n",
        "plt.show()"
      ],
      "metadata": {
        "id": "UfHSbTtLvsL-"
      },
      "execution_count": null,
      "outputs": []
    },
    {
      "cell_type": "code",
      "source": [],
      "metadata": {
        "id": "RHU84c-AjIjn"
      },
      "execution_count": null,
      "outputs": []
    }
  ]
}